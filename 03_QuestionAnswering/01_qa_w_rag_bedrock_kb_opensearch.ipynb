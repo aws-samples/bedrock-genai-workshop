{
 "cells": [
  {
   "cell_type": "markdown",
   "metadata": {},
   "source": [
    "# Retrieval Augmented Question & Answering with Knowledge Bases for Amazon Bedrock & Amazon OpenSearch Serverless\n",
    "\n",
    "> *This notebook should work well with the **`SageMaker Distribution 1.2`** image in SageMaker Studio* Jupyter Lab."
   ]
  },
  {
   "cell_type": "markdown",
   "metadata": {},
   "source": [
    "### Introduction\n",
    "A Q&A chatbot powered by generative AI is designed to have natural conversations and answer questions on a wide range of topics.\n",
    "It uses the LLM to understand questions and generate relevant and helpful responses. With generative AI capabilities, the chatbot can create unique responses instead of pulling from a database of pre-written responses. Overall, the goal is to have more human-like conversations that can educate, assist and to help improve user productivity.\n",
    "\n",
    "While Q&A chatbots powered by the LLM are helpful in providing assistance across general topics, they struggle in providing information / assistance that involves domain specific knowledge, such as enterprise data that were not exposed to the model used in the training process. In order to make the Q&A chatbot understand enterprise data and to provide useful responses, 2 approaches are used in general to address the challenge:\n",
    "\n",
    "1. Finetune the LLM model with enterprise data;\n",
    "2. Integrate the LLM with enterprise knowledge through external databases (e.g. vector database). This approach is also referred as RAG (Retrieval Augmented Generation)\n",
    "\n",
    "In this lab, we'll focus on building a Q&A chatbot using the RAG approach mentioned above. In particular, we'll explore a feature within Amazon Bedrock called [Knowledge Bases For Amazon Bedrock](https://aws.amazon.com/bedrock/knowledge-bases/) to help us quickly setup a vector database using [Amazon OpenSearch Serverless](https://aws.amazon.com/opensearch-service/features/serverless/) and integrate with Amazon Bedrock foundation model without managing any infrasturcture.\n",
    "\n",
    "### Use Case\n",
    "A typical enterprise knowledge base involves large volume of data. In this lab, we'll use some sample gaming dataset provided by [IGDB](https://www.igdb.com/) as the source of the knowledge base. The data contains information about game titles and summaries. The Q&A chatbot will be used to integrate with the Knowledge Base to provide accurate answer based on user's question. \n",
    "\n",
    "These documents explain topics such as:\n",
    "- Storyline of the game\n",
    "- Game Identification\n",
    "- Finding contextual Similar games\n",
    "\n",
    "#### Persona\n",
    "Let's assume a persona of a game user who's looking for information / guidance about the games available in the knowledge base repository.\n",
    "The model will try to answer from the documents in natural language.\n"
   ]
  },
  {
   "cell_type": "markdown",
   "metadata": {},
   "source": [
    "## Implementation\n",
    "In order to follow the RAG approach this notebook integrates with Knowledge Bases for Amazon Bedrock. Specifically, we will be using the following tools:\n",
    "\n",
    "- **LLM (Large Language Model)**: Anthropic Claude V2 available through Amazon Bedrock\n",
    "\n",
    "- **Embeddings Model**: Amazon Titan Embeddings available through Amazon Bedrock\n",
    "\n",
    "- **Vector Store**: Amazon OpenSearch Serverless available through Knowledge Bases for Amazon Bedrock \n",
    "\n",
    "- **Knowledge Base data** - Game Dataset in CSV stored in S3 bucket."
   ]
  },
  {
   "cell_type": "markdown",
   "metadata": {},
   "source": [
    "## Setup\n",
    "\n",
    "Before running the rest of this notebook, you'll need to run the cells below to (ensure necessary libraries are installed and) connect to Bedrock.\n",
    "\n",
    "For more details on how the setup works and ⚠️ **whether you might need to make any changes**, refer to the [Bedrock boto3 setup notebook](../00_Intro/bedrock_boto3_setup.ipynb) notebook."
   ]
  },
  {
   "cell_type": "code",
   "execution_count": 68,
   "metadata": {
    "scrolled": true,
    "tags": []
   },
   "outputs": [
    {
     "name": "stdout",
     "output_type": "stream",
     "text": [
      "Collecting boto3>=1.28.57\n",
      "  Downloading boto3-1.34.16-py3-none-any.whl.metadata (6.6 kB)\n",
      "Collecting awscli>=1.29.57\n",
      "  Downloading awscli-1.32.16-py3-none-any.whl.metadata (11 kB)\n",
      "Collecting botocore>=1.31.57\n",
      "  Downloading botocore-1.34.16-py3-none-any.whl.metadata (5.6 kB)\n",
      "Collecting jmespath<2.0.0,>=0.7.1 (from boto3>=1.28.57)\n",
      "  Using cached jmespath-1.0.1-py3-none-any.whl (20 kB)\n",
      "Collecting s3transfer<0.11.0,>=0.10.0 (from boto3>=1.28.57)\n",
      "  Using cached s3transfer-0.10.0-py3-none-any.whl.metadata (1.7 kB)\n",
      "Collecting docutils<0.17,>=0.10 (from awscli>=1.29.57)\n",
      "  Using cached docutils-0.16-py2.py3-none-any.whl (548 kB)\n",
      "Collecting PyYAML<6.1,>=3.10 (from awscli>=1.29.57)\n",
      "  Using cached PyYAML-6.0.1-cp310-cp310-manylinux_2_17_x86_64.manylinux2014_x86_64.whl.metadata (2.1 kB)\n",
      "Collecting colorama<0.4.5,>=0.2.5 (from awscli>=1.29.57)\n",
      "  Using cached colorama-0.4.4-py2.py3-none-any.whl (16 kB)\n",
      "Collecting rsa<4.8,>=3.1.2 (from awscli>=1.29.57)\n",
      "  Using cached rsa-4.7.2-py3-none-any.whl (34 kB)\n",
      "Collecting python-dateutil<3.0.0,>=2.1 (from botocore>=1.31.57)\n",
      "  Using cached python_dateutil-2.8.2-py2.py3-none-any.whl (247 kB)\n",
      "Collecting urllib3<2.1,>=1.25.4 (from botocore>=1.31.57)\n",
      "  Using cached urllib3-2.0.7-py3-none-any.whl.metadata (6.6 kB)\n",
      "Collecting six>=1.5 (from python-dateutil<3.0.0,>=2.1->botocore>=1.31.57)\n",
      "  Using cached six-1.16.0-py2.py3-none-any.whl (11 kB)\n",
      "Collecting pyasn1>=0.1.3 (from rsa<4.8,>=3.1.2->awscli>=1.29.57)\n",
      "  Using cached pyasn1-0.5.1-py2.py3-none-any.whl.metadata (8.6 kB)\n",
      "Downloading boto3-1.34.16-py3-none-any.whl (139 kB)\n",
      "\u001b[2K   \u001b[90m━━━━━━━━━━━━━━━━━━━━━━━━━━━━━━━━━━━━━━━━\u001b[0m \u001b[32m139.3/139.3 kB\u001b[0m \u001b[31m18.9 MB/s\u001b[0m eta \u001b[36m0:00:00\u001b[0m\n",
      "\u001b[?25hDownloading awscli-1.32.16-py3-none-any.whl (4.3 MB)\n",
      "\u001b[2K   \u001b[90m━━━━━━━━━━━━━━━━━━━━━━━━━━━━━━━━━━━━━━━━\u001b[0m \u001b[32m4.3/4.3 MB\u001b[0m \u001b[31m90.7 MB/s\u001b[0m eta \u001b[36m0:00:00\u001b[0m:00:01\u001b[0m\n",
      "\u001b[?25hDownloading botocore-1.34.16-py3-none-any.whl (11.9 MB)\n",
      "\u001b[2K   \u001b[90m━━━━━━━━━━━━━━━━━━━━━━━━━━━━━━━━━━━━━━━━\u001b[0m \u001b[32m11.9/11.9 MB\u001b[0m \u001b[31m98.7 MB/s\u001b[0m eta \u001b[36m0:00:00\u001b[0m:00:01\u001b[0m00:01\u001b[0m\n",
      "\u001b[?25hUsing cached PyYAML-6.0.1-cp310-cp310-manylinux_2_17_x86_64.manylinux2014_x86_64.whl (705 kB)\n",
      "Using cached s3transfer-0.10.0-py3-none-any.whl (82 kB)\n",
      "Using cached urllib3-2.0.7-py3-none-any.whl (124 kB)\n",
      "Using cached pyasn1-0.5.1-py2.py3-none-any.whl (84 kB)\n",
      "Installing collected packages: urllib3, six, PyYAML, pyasn1, jmespath, docutils, colorama, rsa, python-dateutil, botocore, s3transfer, boto3, awscli\n",
      "  Attempting uninstall: urllib3\n",
      "    Found existing installation: urllib3 2.0.7\n",
      "    Uninstalling urllib3-2.0.7:\n",
      "      Successfully uninstalled urllib3-2.0.7\n",
      "  Attempting uninstall: six\n",
      "    Found existing installation: six 1.16.0\n",
      "    Uninstalling six-1.16.0:\n",
      "      Successfully uninstalled six-1.16.0\n",
      "  Attempting uninstall: PyYAML\n",
      "    Found existing installation: PyYAML 6.0.1\n",
      "    Uninstalling PyYAML-6.0.1:\n",
      "      Successfully uninstalled PyYAML-6.0.1\n",
      "  Attempting uninstall: pyasn1\n",
      "    Found existing installation: pyasn1 0.5.1\n",
      "    Uninstalling pyasn1-0.5.1:\n",
      "      Successfully uninstalled pyasn1-0.5.1\n",
      "  Attempting uninstall: jmespath\n",
      "    Found existing installation: jmespath 1.0.1\n",
      "    Uninstalling jmespath-1.0.1:\n",
      "      Successfully uninstalled jmespath-1.0.1\n",
      "  Attempting uninstall: docutils\n",
      "    Found existing installation: docutils 0.16\n",
      "    Uninstalling docutils-0.16:\n",
      "      Successfully uninstalled docutils-0.16\n",
      "  Attempting uninstall: colorama\n",
      "    Found existing installation: colorama 0.4.4\n",
      "    Uninstalling colorama-0.4.4:\n",
      "      Successfully uninstalled colorama-0.4.4\n",
      "  Attempting uninstall: rsa\n",
      "    Found existing installation: rsa 4.7.2\n",
      "    Uninstalling rsa-4.7.2:\n",
      "      Successfully uninstalled rsa-4.7.2\n",
      "  Attempting uninstall: python-dateutil\n",
      "    Found existing installation: python-dateutil 2.8.2\n",
      "    Uninstalling python-dateutil-2.8.2:\n",
      "      Successfully uninstalled python-dateutil-2.8.2\n",
      "  Attempting uninstall: botocore\n",
      "    Found existing installation: botocore 1.34.15\n",
      "    Uninstalling botocore-1.34.15:\n",
      "      Successfully uninstalled botocore-1.34.15\n",
      "  Attempting uninstall: s3transfer\n",
      "    Found existing installation: s3transfer 0.10.0\n",
      "    Uninstalling s3transfer-0.10.0:\n",
      "      Successfully uninstalled s3transfer-0.10.0\n",
      "  Attempting uninstall: boto3\n",
      "    Found existing installation: boto3 1.34.15\n",
      "    Uninstalling boto3-1.34.15:\n",
      "      Successfully uninstalled boto3-1.34.15\n",
      "  Attempting uninstall: awscli\n",
      "    Found existing installation: awscli 1.32.15\n",
      "    Uninstalling awscli-1.32.15:\n",
      "      Successfully uninstalled awscli-1.32.15\n",
      "\u001b[31mERROR: pip's dependency resolver does not currently take into account all the packages that are installed. This behaviour is the source of the following dependency conflicts.\n",
      "jupyter-ai 2.5.0 requires faiss-cpu, which is not installed.\n",
      "aiobotocore 2.7.0 requires botocore<1.31.65,>=1.31.16, but you have botocore 1.34.16 which is incompatible.\n",
      "sparkmagic 0.21.0 requires pandas<2.0.0,>=0.17.1, but you have pandas 2.1.2 which is incompatible.\u001b[0m\u001b[31m\n",
      "\u001b[0mSuccessfully installed PyYAML-6.0.1 awscli-1.32.16 boto3-1.34.16 botocore-1.34.16 colorama-0.4.4 docutils-0.16 jmespath-1.0.1 pyasn1-0.5.1 python-dateutil-2.8.2 rsa-4.7.2 s3transfer-0.10.0 six-1.16.0 urllib3-2.0.7\n",
      "Note: you may need to restart the kernel to use updated packages.\n"
     ]
    }
   ],
   "source": [
    "%pip install --no-build-isolation --force-reinstall \\\n",
    "    \"boto3>=1.28.57\" \\\n",
    "    \"awscli>=1.29.57\" \\\n",
    "    \"botocore>=1.31.57\""
   ]
  },
  {
   "cell_type": "code",
   "execution_count": 69,
   "metadata": {},
   "outputs": [],
   "source": [
    "import warnings\n",
    "warnings.filterwarnings('ignore')"
   ]
  },
  {
   "cell_type": "markdown",
   "metadata": {},
   "source": [
    "## Data Preparation\n",
    "Let's first extract some of the files to build our knowledge base store. For this example we will be using the CSV file included in the data folder."
   ]
  },
  {
   "cell_type": "code",
   "execution_count": 70,
   "metadata": {},
   "outputs": [
    {
     "name": "stdout",
     "output_type": "stream",
     "text": [
      "sagemaker.config INFO - Not applying SDK defaults from location: /etc/xdg/sagemaker/config.yaml\n",
      "sagemaker.config INFO - Not applying SDK defaults from location: /home/sagemaker-user/.config/sagemaker/config.yaml\n"
     ]
    }
   ],
   "source": [
    "import sagemaker\n",
    "sess = sagemaker.Session()\n",
    "bucket = sess.default_bucket() # Set a default S3 bucket\n",
    "prefix = 'bedrock/knowledgebase/'"
   ]
  },
  {
   "cell_type": "markdown",
   "metadata": {},
   "source": [
    "Now, let's extract the games csv data, and upload the csv file to S3 bucket so that we could ingest the data into Amazon OpenSearch Serverless via Knowledge Bases for Bedrock."
   ]
  },
  {
   "cell_type": "code",
   "execution_count": 71,
   "metadata": {},
   "outputs": [
    {
     "name": "stdout",
     "output_type": "stream",
     "text": [
      "./\n",
      "./games.csv\n",
      "upload: ./games.csv to s3://sagemaker-us-east-1-349674815289/bedrock/knowledgebase/games.csv\n"
     ]
    }
   ],
   "source": [
    "!cd data && tar -xvzf games.tar.gz && aws s3 cp games.csv s3://{bucket}/{prefix}"
   ]
  },
  {
   "cell_type": "markdown",
   "metadata": {},
   "source": [
    "**Note:** Please note the S3 URL, we'll use it in the next section."
   ]
  },
  {
   "cell_type": "markdown",
   "metadata": {},
   "source": [
    "# Create a Knowledge Base using Amazon Bedrock\n",
    "The following section describes the steps to take in order to create a knowledge base in Bedrock.\n",
    "For simplicity of the workshop, we are going to use the Amazon Bedrock console to configure all required components. \n",
    "You can also use the AWS SDK to achieve the same results. For information about using the AWS SDK for Agents, please refer to this [link](https://boto3.amazonaws.com/v1/documentation/api/latest/reference/services/bedrock-agent.html)."
   ]
  },
  {
   "cell_type": "markdown",
   "metadata": {},
   "source": [
    "## Step by Step Instructions"
   ]
  },
  {
   "cell_type": "markdown",
   "metadata": {},
   "source": [
    "1. Navigate to [Bedrock Console](https://console.aws.amazon.com/bedrock):\n",
    "\n",
    "<img src=\"images/bedrock-console.png\" alt=\"bedrock_console\" style=\"width: 600px;\"/>"
   ]
  },
  {
   "attachments": {},
   "cell_type": "markdown",
   "metadata": {},
   "source": [
    "2. Select Knowledge base from the left pane:\n",
    "\n",
    "<img src=\"images/bedrock-console-kb.png\" alt=\"bedrock_kb\" style=\"width: 200px;\"/>"
   ]
  },
  {
   "cell_type": "markdown",
   "metadata": {},
   "source": [
    "3. Create a new Knowledge base:\n",
    "\n",
    "<img src=\"images/bedrock-kb-create.png\" alt=\"create_kb\" style=\"width: 800px;\"/>"
   ]
  },
  {
   "cell_type": "markdown",
   "metadata": {},
   "source": [
    "4. Provide knowledge base details as followed:\n",
    "\n",
    "**Name**: [your name]-genai-workshop-kb\n",
    "\n",
    "**Description**: A sample knowledge base for gen AI workshop\n",
    "\n",
    "**IAM permissions**: Create and use a new service role\n",
    "\n",
    "<img src=\"images/bedrock-kb-detail.png\" alt=\"bedrock_kb_detail\" style=\"width: 700px;\"/>"
   ]
  },
  {
   "cell_type": "markdown",
   "metadata": {},
   "source": [
    "5. Add a new data source with the following details:\n",
    "\n",
    "**Name**: [your name]-genai-workshop-kb-data-source\n",
    "\n",
    "**S3 URI**: [ The S3 URI where the ``games.csv`` file was uploaded. (You can find the S3 URI in the previous cell) ]\n",
    "\n",
    "**Advanced Settings**:\n",
    "\n",
    "**KMS Key For transient data storage**: Use default KMS key\n",
    "\n",
    "**Chunking Strategy**: Default Chunking\n",
    "\n",
    "<img src=\"images/bedrock-kb-ds-detail.png\" alt=\"bedrock_kb_ds_detail\" style=\"width: 700px;\"/>"
   ]
  },
  {
   "cell_type": "markdown",
   "metadata": {},
   "source": [
    "6. Setup a vector store database\n",
    "\n",
    "**Embeddings Model**: Titan Embeddings G1 - Text v1.2\n",
    "\n",
    "**Vector Database**: Quick create a new vector store\n",
    "\n",
    "<img src=\"images/bedrock-kb-vector-db-detail.png\" alt=\"bedrock_kb_v_detail\" style=\"width: 700px;\"/>\n"
   ]
  },
  {
   "attachments": {},
   "cell_type": "markdown",
   "metadata": {},
   "source": [
    "7. Review and Create the Knowledge Base\n",
    "\n",
    "<img src=\"images/bedrock-kb-create-final.png\" alt=\"bedrock_kb_create_final\" style=\"width: 700px;\"/>\n",
    "\n",
    "You'll see a status shows up at the top of the page, this should take a few seconds:\n",
    "\n",
    "<img src=\"images/bedrock-kb-create-status.png\" alt=\"bedrock_kb_create_final\" style=\"width: 700px;\"/>\n",
    "\n",
    "When the vector DB is created successfully. You'll see the status bar turns Green. Click on the 'sync' button to sync the data source with the vector DB.\n",
    "\n",
    "<img src=\"images/bedrock-kb-sync.png\" alt=\"bedrock_kb_sync\" style=\"width: 700px;\"/>\n",
    "\n",
    "The sync process could take a while depending on the volume of data. For our lab, it should take about 10 minutes. \n",
    "\n",
    "While waiting for the sync process, this might be a good time to take a break and resume when the sync is complete! \n"
   ]
  },
  {
   "cell_type": "markdown",
   "metadata": {},
   "source": [
    "## Knowledge Base Retrieval\n",
    "We can use the Bedrock Agent SDK to perform similarity search to process a query and return the chunks of text without any LLM generating the response. "
   ]
  },
  {
   "cell_type": "markdown",
   "metadata": {},
   "source": [
    "First, let's retrieve the knowledge base ID so we could use it with the SDK. You can the Knowledge Base ID on the overview page of the Knowledge Base when you created it. Here's a screenshot that shows where the ID is located:\n",
    "\n",
    "<img src=\"images/bedrock-kb-overview.png\" alt=\"bedrock_kb_overview\" style=\"width: 450px;\"/>"
   ]
  },
  {
   "cell_type": "markdown",
   "metadata": {},
   "source": [
    "Define a runtime bedrock agent client"
   ]
  },
  {
   "cell_type": "code",
   "execution_count": 72,
   "metadata": {},
   "outputs": [],
   "source": [
    "agent_runtime_client = boto3.client('bedrock-agent-runtime')\n",
    "knowledgebase_id = \"TWV0RKFM9I\" # use the knowledge base ID from the console shown in the previous step."
   ]
  },
  {
   "cell_type": "code",
   "execution_count": 73,
   "metadata": {},
   "outputs": [],
   "source": [
    "response = agent_runtime_client.retrieve(\n",
    "    knowledgeBaseId=knowledgebase_id,\n",
    "    retrievalQuery={\n",
    "        'text': 'Dance dance revolution'\n",
    "    },\n",
    "    retrievalConfiguration={\n",
    "        'vectorSearchConfiguration': {\n",
    "            'numberOfResults': 3  # Shows the top 3 results\n",
    "        }\n",
    "    }\n",
    ")"
   ]
  },
  {
   "cell_type": "markdown",
   "metadata": {},
   "source": [
    "prints out the top 3 matching documents"
   ]
  },
  {
   "cell_type": "code",
   "execution_count": 74,
   "metadata": {},
   "outputs": [
    {
     "name": "stdout",
     "output_type": "stream",
     "text": [
      "==> Document Text: An updated version, Dance Dance Revolution 2ndMix Link Version, was released to Japanese arcades on April 28, 1999. This version came with a PlayStation memory card reader, installed in the middle of the arcade cabinet. It supports cards that have Link Data from the home version of Dance Dance Revolution, allowing each player to save high scores and play custom step edits. 2ndMix Link Version adds five new songs to the game, two from the home version and three new licenses, for a total of 37 songs. Future Dance Dance Revolution releases in Japan, up to and including Dance Dance Revolution Extreme, integrated Link Data functionality in-game. However, these required different home games to produce different Link Data formats: 3rdMix, 4thMix, 4thMix Plus, 5thMix and New Version.\" 122565,Humanity,\"A unique blend of puzzle-solving and action-platforming. Play a lone Shiba Inu charged with commanding massive, marching crowds to the goal in Story Mode, or browse a wide array of user-made levels crafted via the in-game Stage Creator!\" 95462,Agent Hugo,\"Hugo, the TV troll from the Danish television series, is on his way to start his first day at the espionage agency R.I.S.K. (Risky Intelligent Spy Knights) when he is attacked by members of the sinister organization SUSPECTRA. Their plans are threatening the entire city, but Agent Hugo soon discovers there is even more at stake. The game is played as a platformer with racing elements., Score: 0.75853854\n",
      "==> Document Text: Introduced in Japan in 1998 as part of the Bemani series, and released in North America and Europe in 1999, Dance Dance Revolution is the pioneering series of the rhythm and dance genre in video games. Players stand on a \"\"dance platform\"\" or stage and hit colored arrows laid out in a cross with their feet to musical and visual cues. Players are judged by how well they time their dance to the patterns presented to them and are allowed to choose more music to play to if they receive a passing score.  Dance Dance Revolution has been given much critical acclaim for its originality and stamina in the video game market. There have been dozens of arcade-based releases across several countries and hundreds of home video game console releases, promoting a music library of original songs produced by Konami's in-house artists and an eclectic set of licensed music from many different genres. The DDR series has inspired similar games such as Pump It Up by Andamiro and In the Groove by Roxor\" 2133,Super Stardust HD,\"Super Stardust HD is a downloadable game for the PlayStation 3 video game console, developed by the Finnish company Housemarque. In Japan it is known as Star Strike HD.  Super Stardust HD was the first title with trophy support on the PlayStation 3.  Super Stardust HD for the PlayStation3 system is a fully updated version of the classic game Stardust. Your mission is simple: destroy everything in sight!, Score: 0.7411293\n",
      "==> Document Text: The player can take five hits before losing a life but pits automatically make him lose a life. Weapons are found in floating orbs, and each color holds a different kind of gun.\" 22296,Dancing Stage Fusion,\"Dancing Stage Fusion, abbreviated DS Fusion or simply Fusion, is a music video game released by Konami to the European PlayStation and PlayStation 2 gaming audience on November 5, 2004. In April of the following year, Dancing Stage Fusion was released as an arcade game. Fusion featured new gameplay features such as EyeToy support for the PlayStation 2 release as well as new music from hit pop artists. The arcade version of Fusion was the first arcade machine in Europe since Dancing Stage EuroMix 2 and set a milestone as the first Dance Dance Revolution arcade machine produced by Konami since Dance Dance Revolution Extreme in 2002. The arcade release marked a total game engine upgrade from the old PlayStation-based boards to a new system built on top of an off-the-shelf PlayStation 2. This hardware upgrade would be later featured in the global release of Dance Dance Revolution SuperNova in 2006.\" 9435,Urban Trial Freestyle,\"After reaching pole position in PlayStation Store Chart, the critically acclaimed Urban Trial Freestyle is now revving up for PC. The city is your playground! Nothing will stop you on your freestyle trials bike. Use the urban landscape to pull spectacular tricks - backflips, 360s, wallrides, ollies, and more. Customize your bike to boost your performance in Time Attack or Stunt mode., Score: 0.720337\n"
     ]
    }
   ],
   "source": [
    "for text, score in [ (x['content']['text'], x['score']) for x in response['retrievalResults'] ]:\n",
    "    print(f\"==> Document Text: {text}, Score: {score}\")"
   ]
  },
  {
   "cell_type": "markdown",
   "metadata": {},
   "source": [
    "## Generative Question Answering\n",
    "In generative question-answering (GQA), we pass our question to the Claude-2 but instruct it to base the answer on the information returned from our knowledge base.\n",
    "Typically, in order to integrate knowledge base with an LLM for a chatbot application, you would need to setup, build and manage a QA retriever that connects both components. With Knowledge Bases for Amazon Bedrock, you simply use Bedrock API to send the question, Bedrock is responsible for handling the connectivity between LLM and the Knowledge base components, orchestrate the interactions and returns the results. It helps improves developer productivity as there is no infrastructure to manage. "
   ]
  },
  {
   "cell_type": "markdown",
   "metadata": {},
   "source": [
    "First let's list all the model IDs available to find the Claude-2 model ARN. We'll need it for invoking the agent and knowledge base.  "
   ]
  },
  {
   "cell_type": "code",
   "execution_count": 75,
   "metadata": {},
   "outputs": [],
   "source": [
    "bedrock_agent = boto3.client(\"bedrock\")"
   ]
  },
  {
   "cell_type": "code",
   "execution_count": 76,
   "metadata": {},
   "outputs": [
    {
     "name": "stdout",
     "output_type": "stream",
     "text": [
      "model ID: amazon.titan-tg1-large, model name: Titan Text Large, model_arn: arn:aws:bedrock:us-east-1::foundation-model/amazon.titan-tg1-large\n",
      "model ID: amazon.titan-image-generator-v1:0, model name: Titan Image Generator G1, model_arn: arn:aws:bedrock:us-east-1::foundation-model/amazon.titan-image-generator-v1:0\n",
      "model ID: amazon.titan-image-generator-v1, model name: Titan Image Generator G1, model_arn: arn:aws:bedrock:us-east-1::foundation-model/amazon.titan-image-generator-v1\n",
      "model ID: amazon.titan-embed-g1-text-02, model name: Titan Text Embeddings v2, model_arn: arn:aws:bedrock:us-east-1::foundation-model/amazon.titan-embed-g1-text-02\n",
      "model ID: amazon.titan-text-lite-v1:0:4k, model name: Titan Text G1 - Lite, model_arn: arn:aws:bedrock:us-east-1::foundation-model/amazon.titan-text-lite-v1:0:4k\n",
      "model ID: amazon.titan-text-lite-v1, model name: Titan Text G1 - Lite, model_arn: arn:aws:bedrock:us-east-1::foundation-model/amazon.titan-text-lite-v1\n",
      "model ID: amazon.titan-text-express-v1:0:8k, model name: Titan Text G1 - Express, model_arn: arn:aws:bedrock:us-east-1::foundation-model/amazon.titan-text-express-v1:0:8k\n",
      "model ID: amazon.titan-text-express-v1, model name: Titan Text G1 - Express, model_arn: arn:aws:bedrock:us-east-1::foundation-model/amazon.titan-text-express-v1\n",
      "model ID: amazon.titan-embed-text-v1:2:8k, model name: Titan Embeddings G1 - Text, model_arn: arn:aws:bedrock:us-east-1::foundation-model/amazon.titan-embed-text-v1:2:8k\n",
      "model ID: amazon.titan-embed-text-v1, model name: Titan Embeddings G1 - Text, model_arn: arn:aws:bedrock:us-east-1::foundation-model/amazon.titan-embed-text-v1\n",
      "model ID: amazon.titan-embed-image-v1:0, model name: Titan Multimodal Embeddings G1, model_arn: arn:aws:bedrock:us-east-1::foundation-model/amazon.titan-embed-image-v1:0\n",
      "model ID: amazon.titan-embed-image-v1, model name: Titan Multimodal Embeddings G1, model_arn: arn:aws:bedrock:us-east-1::foundation-model/amazon.titan-embed-image-v1\n",
      "model ID: stability.stable-diffusion-xl, model name: SDXL 0.8, model_arn: arn:aws:bedrock:us-east-1::foundation-model/stability.stable-diffusion-xl\n",
      "model ID: stability.stable-diffusion-xl-v0, model name: SDXL 0.8, model_arn: arn:aws:bedrock:us-east-1::foundation-model/stability.stable-diffusion-xl-v0\n",
      "model ID: stability.stable-diffusion-xl-v1:0, model name: SDXL 1.0, model_arn: arn:aws:bedrock:us-east-1::foundation-model/stability.stable-diffusion-xl-v1:0\n",
      "model ID: stability.stable-diffusion-xl-v1, model name: SDXL 1.0, model_arn: arn:aws:bedrock:us-east-1::foundation-model/stability.stable-diffusion-xl-v1\n",
      "model ID: ai21.j2-grande-instruct, model name: J2 Grande Instruct, model_arn: arn:aws:bedrock:us-east-1::foundation-model/ai21.j2-grande-instruct\n",
      "model ID: ai21.j2-jumbo-instruct, model name: J2 Jumbo Instruct, model_arn: arn:aws:bedrock:us-east-1::foundation-model/ai21.j2-jumbo-instruct\n",
      "model ID: ai21.j2-mid, model name: Jurassic-2 Mid, model_arn: arn:aws:bedrock:us-east-1::foundation-model/ai21.j2-mid\n",
      "model ID: ai21.j2-mid-v1, model name: Jurassic-2 Mid, model_arn: arn:aws:bedrock:us-east-1::foundation-model/ai21.j2-mid-v1\n",
      "model ID: ai21.j2-ultra, model name: Jurassic-2 Ultra, model_arn: arn:aws:bedrock:us-east-1::foundation-model/ai21.j2-ultra\n",
      "model ID: ai21.j2-ultra-v1, model name: Jurassic-2 Ultra, model_arn: arn:aws:bedrock:us-east-1::foundation-model/ai21.j2-ultra-v1\n",
      "model ID: anthropic.claude-instant-v1:2:100k, model name: Claude Instant, model_arn: arn:aws:bedrock:us-east-1::foundation-model/anthropic.claude-instant-v1:2:100k\n",
      "model ID: anthropic.claude-instant-v1, model name: Claude Instant, model_arn: arn:aws:bedrock:us-east-1::foundation-model/anthropic.claude-instant-v1\n",
      "model ID: anthropic.claude-v1, model name: Claude, model_arn: arn:aws:bedrock:us-east-1::foundation-model/anthropic.claude-v1\n",
      "model ID: anthropic.claude-v2:0:18k, model name: Claude, model_arn: arn:aws:bedrock:us-east-1::foundation-model/anthropic.claude-v2:0:18k\n",
      "model ID: anthropic.claude-v2:0:100k, model name: Claude, model_arn: arn:aws:bedrock:us-east-1::foundation-model/anthropic.claude-v2:0:100k\n",
      "model ID: anthropic.claude-v2:1:18k, model name: Claude, model_arn: arn:aws:bedrock:us-east-1::foundation-model/anthropic.claude-v2:1:18k\n",
      "model ID: anthropic.claude-v2:1:200k, model name: Claude, model_arn: arn:aws:bedrock:us-east-1::foundation-model/anthropic.claude-v2:1:200k\n",
      "model ID: anthropic.claude-v2:1, model name: Claude, model_arn: arn:aws:bedrock:us-east-1::foundation-model/anthropic.claude-v2:1\n",
      "model ID: anthropic.claude-v2, model name: Claude, model_arn: arn:aws:bedrock:us-east-1::foundation-model/anthropic.claude-v2\n",
      "model ID: cohere.command-text-v14:7:4k, model name: Command, model_arn: arn:aws:bedrock:us-east-1::foundation-model/cohere.command-text-v14:7:4k\n",
      "model ID: cohere.command-text-v14, model name: Command, model_arn: arn:aws:bedrock:us-east-1::foundation-model/cohere.command-text-v14\n",
      "model ID: cohere.command-light-text-v14:7:4k, model name: Command Light, model_arn: arn:aws:bedrock:us-east-1::foundation-model/cohere.command-light-text-v14:7:4k\n",
      "model ID: cohere.command-light-text-v14, model name: Command Light, model_arn: arn:aws:bedrock:us-east-1::foundation-model/cohere.command-light-text-v14\n",
      "model ID: cohere.embed-english-v3, model name: Embed English, model_arn: arn:aws:bedrock:us-east-1::foundation-model/cohere.embed-english-v3\n",
      "model ID: cohere.embed-multilingual-v3, model name: Embed Multilingual, model_arn: arn:aws:bedrock:us-east-1::foundation-model/cohere.embed-multilingual-v3\n",
      "model ID: meta.llama2-13b-chat-v1:0:4k, model name: Llama 2 Chat 13B, model_arn: arn:aws:bedrock:us-east-1::foundation-model/meta.llama2-13b-chat-v1:0:4k\n",
      "model ID: meta.llama2-13b-chat-v1, model name: Llama 2 Chat 13B, model_arn: arn:aws:bedrock:us-east-1::foundation-model/meta.llama2-13b-chat-v1\n",
      "model ID: meta.llama2-70b-chat-v1:0:4k, model name: Llama 2 Chat 70B, model_arn: arn:aws:bedrock:us-east-1::foundation-model/meta.llama2-70b-chat-v1:0:4k\n",
      "model ID: meta.llama2-70b-chat-v1, model name: Llama 2 Chat 70B, model_arn: arn:aws:bedrock:us-east-1::foundation-model/meta.llama2-70b-chat-v1\n",
      "model ID: meta.llama2-13b-v1:0:4k, model name: Llama 2 13B, model_arn: arn:aws:bedrock:us-east-1::foundation-model/meta.llama2-13b-v1:0:4k\n",
      "model ID: meta.llama2-13b-v1, model name: Llama 2 13B, model_arn: arn:aws:bedrock:us-east-1::foundation-model/meta.llama2-13b-v1\n",
      "model ID: meta.llama2-70b-v1:0:4k, model name: Llama 2 70B, model_arn: arn:aws:bedrock:us-east-1::foundation-model/meta.llama2-70b-v1:0:4k\n",
      "model ID: meta.llama2-70b-v1, model name: Llama 2 70B, model_arn: arn:aws:bedrock:us-east-1::foundation-model/meta.llama2-70b-v1\n"
     ]
    }
   ],
   "source": [
    "for model_id, model_name, model_arn in [ (x['modelId'], x['modelName'], x['modelArn']) for x in bedrock_agent.list_foundation_models()['modelSummaries']]:\n",
    "  print(f\"model ID: {model_id}, model name: {model_name}, model_arn: {model_arn}\")"
   ]
  },
  {
   "cell_type": "code",
   "execution_count": 78,
   "metadata": {},
   "outputs": [],
   "source": [
    "response = client.retrieve_and_generate(\n",
    "    input={\n",
    "        'text': 'show me similar games like \"Dance dance revolution\" '\n",
    "    },\n",
    "    retrieveAndGenerateConfiguration={\n",
    "        'type': 'KNOWLEDGE_BASE',\n",
    "        'knowledgeBaseConfiguration': {\n",
    "            'knowledgeBaseId': knowledgebase_id,\n",
    "            'modelArn': claude_v2_model_id\n",
    "        }\n",
    "    }\n",
    ")"
   ]
  },
  {
   "cell_type": "markdown",
   "metadata": {},
   "source": [
    "Here's the response"
   ]
  },
  {
   "cell_type": "code",
   "execution_count": 81,
   "metadata": {},
   "outputs": [
    {
     "name": "stdout",
     "output_type": "stream",
     "text": [
      "Dance Dance Revolution is a pioneering rhythm and dance game where players hit colored arrows with their feet to musical and visual cues. Similar games inspired by DDR include: Pump It Up by Andamiro In the Groove by Roxor\n"
     ]
    }
   ],
   "source": [
    "print(response['output']['text'])"
   ]
  },
  {
   "cell_type": "markdown",
   "metadata": {},
   "source": [
    "## Conclusion\n",
    "Congratulations on completing this moduel on retrieval augmented generation! This is an important technique that combines the power of large language models with the precision of retrieval methods. By augmenting generation with relevant retrieved examples, the responses we recieved become more coherent, consistent and grounded. You should feel proud of learning this innovative approach. I'm sure the knowledge you've gained will be very useful for building creative and engaging language generation systems. Well done!\n",
    "\n",
    "In the above implementation of RAG based Question Answering we have explored the following concepts and how to implement them using Amazon Bedrock and it's LangChain integration.\n",
    "\n",
    "- Creating a knowledge base using Knowledge Bases for Bedrock\n",
    "- Loads documents and generating embeddings to create a vector store (Amazon Opensearch Serveless) managed by Amazon Bedrock Knowledge Base. \n",
    "- Retrieving similar documents to the question\n",
    "- Use Bedrock agent SDK to retrieval and generate a human friendly response based on user question.\n",
    "\n",
    "# Thank You"
   ]
  },
  {
   "cell_type": "code",
   "execution_count": null,
   "metadata": {},
   "outputs": [],
   "source": []
  }
 ],
 "metadata": {
  "availableInstances": [
   {
    "_defaultOrder": 0,
    "_isFastLaunch": true,
    "category": "General purpose",
    "gpuNum": 0,
    "hideHardwareSpecs": false,
    "memoryGiB": 4,
    "name": "ml.t3.medium",
    "vcpuNum": 2
   },
   {
    "_defaultOrder": 1,
    "_isFastLaunch": false,
    "category": "General purpose",
    "gpuNum": 0,
    "hideHardwareSpecs": false,
    "memoryGiB": 8,
    "name": "ml.t3.large",
    "vcpuNum": 2
   },
   {
    "_defaultOrder": 2,
    "_isFastLaunch": false,
    "category": "General purpose",
    "gpuNum": 0,
    "hideHardwareSpecs": false,
    "memoryGiB": 16,
    "name": "ml.t3.xlarge",
    "vcpuNum": 4
   },
   {
    "_defaultOrder": 3,
    "_isFastLaunch": false,
    "category": "General purpose",
    "gpuNum": 0,
    "hideHardwareSpecs": false,
    "memoryGiB": 32,
    "name": "ml.t3.2xlarge",
    "vcpuNum": 8
   },
   {
    "_defaultOrder": 4,
    "_isFastLaunch": true,
    "category": "General purpose",
    "gpuNum": 0,
    "hideHardwareSpecs": false,
    "memoryGiB": 8,
    "name": "ml.m5.large",
    "vcpuNum": 2
   },
   {
    "_defaultOrder": 5,
    "_isFastLaunch": false,
    "category": "General purpose",
    "gpuNum": 0,
    "hideHardwareSpecs": false,
    "memoryGiB": 16,
    "name": "ml.m5.xlarge",
    "vcpuNum": 4
   },
   {
    "_defaultOrder": 6,
    "_isFastLaunch": false,
    "category": "General purpose",
    "gpuNum": 0,
    "hideHardwareSpecs": false,
    "memoryGiB": 32,
    "name": "ml.m5.2xlarge",
    "vcpuNum": 8
   },
   {
    "_defaultOrder": 7,
    "_isFastLaunch": false,
    "category": "General purpose",
    "gpuNum": 0,
    "hideHardwareSpecs": false,
    "memoryGiB": 64,
    "name": "ml.m5.4xlarge",
    "vcpuNum": 16
   },
   {
    "_defaultOrder": 8,
    "_isFastLaunch": false,
    "category": "General purpose",
    "gpuNum": 0,
    "hideHardwareSpecs": false,
    "memoryGiB": 128,
    "name": "ml.m5.8xlarge",
    "vcpuNum": 32
   },
   {
    "_defaultOrder": 9,
    "_isFastLaunch": false,
    "category": "General purpose",
    "gpuNum": 0,
    "hideHardwareSpecs": false,
    "memoryGiB": 192,
    "name": "ml.m5.12xlarge",
    "vcpuNum": 48
   },
   {
    "_defaultOrder": 10,
    "_isFastLaunch": false,
    "category": "General purpose",
    "gpuNum": 0,
    "hideHardwareSpecs": false,
    "memoryGiB": 256,
    "name": "ml.m5.16xlarge",
    "vcpuNum": 64
   },
   {
    "_defaultOrder": 11,
    "_isFastLaunch": false,
    "category": "General purpose",
    "gpuNum": 0,
    "hideHardwareSpecs": false,
    "memoryGiB": 384,
    "name": "ml.m5.24xlarge",
    "vcpuNum": 96
   },
   {
    "_defaultOrder": 12,
    "_isFastLaunch": false,
    "category": "General purpose",
    "gpuNum": 0,
    "hideHardwareSpecs": false,
    "memoryGiB": 8,
    "name": "ml.m5d.large",
    "vcpuNum": 2
   },
   {
    "_defaultOrder": 13,
    "_isFastLaunch": false,
    "category": "General purpose",
    "gpuNum": 0,
    "hideHardwareSpecs": false,
    "memoryGiB": 16,
    "name": "ml.m5d.xlarge",
    "vcpuNum": 4
   },
   {
    "_defaultOrder": 14,
    "_isFastLaunch": false,
    "category": "General purpose",
    "gpuNum": 0,
    "hideHardwareSpecs": false,
    "memoryGiB": 32,
    "name": "ml.m5d.2xlarge",
    "vcpuNum": 8
   },
   {
    "_defaultOrder": 15,
    "_isFastLaunch": false,
    "category": "General purpose",
    "gpuNum": 0,
    "hideHardwareSpecs": false,
    "memoryGiB": 64,
    "name": "ml.m5d.4xlarge",
    "vcpuNum": 16
   },
   {
    "_defaultOrder": 16,
    "_isFastLaunch": false,
    "category": "General purpose",
    "gpuNum": 0,
    "hideHardwareSpecs": false,
    "memoryGiB": 128,
    "name": "ml.m5d.8xlarge",
    "vcpuNum": 32
   },
   {
    "_defaultOrder": 17,
    "_isFastLaunch": false,
    "category": "General purpose",
    "gpuNum": 0,
    "hideHardwareSpecs": false,
    "memoryGiB": 192,
    "name": "ml.m5d.12xlarge",
    "vcpuNum": 48
   },
   {
    "_defaultOrder": 18,
    "_isFastLaunch": false,
    "category": "General purpose",
    "gpuNum": 0,
    "hideHardwareSpecs": false,
    "memoryGiB": 256,
    "name": "ml.m5d.16xlarge",
    "vcpuNum": 64
   },
   {
    "_defaultOrder": 19,
    "_isFastLaunch": false,
    "category": "General purpose",
    "gpuNum": 0,
    "hideHardwareSpecs": false,
    "memoryGiB": 384,
    "name": "ml.m5d.24xlarge",
    "vcpuNum": 96
   },
   {
    "_defaultOrder": 20,
    "_isFastLaunch": false,
    "category": "General purpose",
    "gpuNum": 0,
    "hideHardwareSpecs": true,
    "memoryGiB": 0,
    "name": "ml.geospatial.interactive",
    "supportedImageNames": [
     "sagemaker-geospatial-v1-0"
    ],
    "vcpuNum": 0
   },
   {
    "_defaultOrder": 21,
    "_isFastLaunch": true,
    "category": "Compute optimized",
    "gpuNum": 0,
    "hideHardwareSpecs": false,
    "memoryGiB": 4,
    "name": "ml.c5.large",
    "vcpuNum": 2
   },
   {
    "_defaultOrder": 22,
    "_isFastLaunch": false,
    "category": "Compute optimized",
    "gpuNum": 0,
    "hideHardwareSpecs": false,
    "memoryGiB": 8,
    "name": "ml.c5.xlarge",
    "vcpuNum": 4
   },
   {
    "_defaultOrder": 23,
    "_isFastLaunch": false,
    "category": "Compute optimized",
    "gpuNum": 0,
    "hideHardwareSpecs": false,
    "memoryGiB": 16,
    "name": "ml.c5.2xlarge",
    "vcpuNum": 8
   },
   {
    "_defaultOrder": 24,
    "_isFastLaunch": false,
    "category": "Compute optimized",
    "gpuNum": 0,
    "hideHardwareSpecs": false,
    "memoryGiB": 32,
    "name": "ml.c5.4xlarge",
    "vcpuNum": 16
   },
   {
    "_defaultOrder": 25,
    "_isFastLaunch": false,
    "category": "Compute optimized",
    "gpuNum": 0,
    "hideHardwareSpecs": false,
    "memoryGiB": 72,
    "name": "ml.c5.9xlarge",
    "vcpuNum": 36
   },
   {
    "_defaultOrder": 26,
    "_isFastLaunch": false,
    "category": "Compute optimized",
    "gpuNum": 0,
    "hideHardwareSpecs": false,
    "memoryGiB": 96,
    "name": "ml.c5.12xlarge",
    "vcpuNum": 48
   },
   {
    "_defaultOrder": 27,
    "_isFastLaunch": false,
    "category": "Compute optimized",
    "gpuNum": 0,
    "hideHardwareSpecs": false,
    "memoryGiB": 144,
    "name": "ml.c5.18xlarge",
    "vcpuNum": 72
   },
   {
    "_defaultOrder": 28,
    "_isFastLaunch": false,
    "category": "Compute optimized",
    "gpuNum": 0,
    "hideHardwareSpecs": false,
    "memoryGiB": 192,
    "name": "ml.c5.24xlarge",
    "vcpuNum": 96
   },
   {
    "_defaultOrder": 29,
    "_isFastLaunch": true,
    "category": "Accelerated computing",
    "gpuNum": 1,
    "hideHardwareSpecs": false,
    "memoryGiB": 16,
    "name": "ml.g4dn.xlarge",
    "vcpuNum": 4
   },
   {
    "_defaultOrder": 30,
    "_isFastLaunch": false,
    "category": "Accelerated computing",
    "gpuNum": 1,
    "hideHardwareSpecs": false,
    "memoryGiB": 32,
    "name": "ml.g4dn.2xlarge",
    "vcpuNum": 8
   },
   {
    "_defaultOrder": 31,
    "_isFastLaunch": false,
    "category": "Accelerated computing",
    "gpuNum": 1,
    "hideHardwareSpecs": false,
    "memoryGiB": 64,
    "name": "ml.g4dn.4xlarge",
    "vcpuNum": 16
   },
   {
    "_defaultOrder": 32,
    "_isFastLaunch": false,
    "category": "Accelerated computing",
    "gpuNum": 1,
    "hideHardwareSpecs": false,
    "memoryGiB": 128,
    "name": "ml.g4dn.8xlarge",
    "vcpuNum": 32
   },
   {
    "_defaultOrder": 33,
    "_isFastLaunch": false,
    "category": "Accelerated computing",
    "gpuNum": 4,
    "hideHardwareSpecs": false,
    "memoryGiB": 192,
    "name": "ml.g4dn.12xlarge",
    "vcpuNum": 48
   },
   {
    "_defaultOrder": 34,
    "_isFastLaunch": false,
    "category": "Accelerated computing",
    "gpuNum": 1,
    "hideHardwareSpecs": false,
    "memoryGiB": 256,
    "name": "ml.g4dn.16xlarge",
    "vcpuNum": 64
   },
   {
    "_defaultOrder": 35,
    "_isFastLaunch": false,
    "category": "Accelerated computing",
    "gpuNum": 1,
    "hideHardwareSpecs": false,
    "memoryGiB": 61,
    "name": "ml.p3.2xlarge",
    "vcpuNum": 8
   },
   {
    "_defaultOrder": 36,
    "_isFastLaunch": false,
    "category": "Accelerated computing",
    "gpuNum": 4,
    "hideHardwareSpecs": false,
    "memoryGiB": 244,
    "name": "ml.p3.8xlarge",
    "vcpuNum": 32
   },
   {
    "_defaultOrder": 37,
    "_isFastLaunch": false,
    "category": "Accelerated computing",
    "gpuNum": 8,
    "hideHardwareSpecs": false,
    "memoryGiB": 488,
    "name": "ml.p3.16xlarge",
    "vcpuNum": 64
   },
   {
    "_defaultOrder": 38,
    "_isFastLaunch": false,
    "category": "Accelerated computing",
    "gpuNum": 8,
    "hideHardwareSpecs": false,
    "memoryGiB": 768,
    "name": "ml.p3dn.24xlarge",
    "vcpuNum": 96
   },
   {
    "_defaultOrder": 39,
    "_isFastLaunch": false,
    "category": "Memory Optimized",
    "gpuNum": 0,
    "hideHardwareSpecs": false,
    "memoryGiB": 16,
    "name": "ml.r5.large",
    "vcpuNum": 2
   },
   {
    "_defaultOrder": 40,
    "_isFastLaunch": false,
    "category": "Memory Optimized",
    "gpuNum": 0,
    "hideHardwareSpecs": false,
    "memoryGiB": 32,
    "name": "ml.r5.xlarge",
    "vcpuNum": 4
   },
   {
    "_defaultOrder": 41,
    "_isFastLaunch": false,
    "category": "Memory Optimized",
    "gpuNum": 0,
    "hideHardwareSpecs": false,
    "memoryGiB": 64,
    "name": "ml.r5.2xlarge",
    "vcpuNum": 8
   },
   {
    "_defaultOrder": 42,
    "_isFastLaunch": false,
    "category": "Memory Optimized",
    "gpuNum": 0,
    "hideHardwareSpecs": false,
    "memoryGiB": 128,
    "name": "ml.r5.4xlarge",
    "vcpuNum": 16
   },
   {
    "_defaultOrder": 43,
    "_isFastLaunch": false,
    "category": "Memory Optimized",
    "gpuNum": 0,
    "hideHardwareSpecs": false,
    "memoryGiB": 256,
    "name": "ml.r5.8xlarge",
    "vcpuNum": 32
   },
   {
    "_defaultOrder": 44,
    "_isFastLaunch": false,
    "category": "Memory Optimized",
    "gpuNum": 0,
    "hideHardwareSpecs": false,
    "memoryGiB": 384,
    "name": "ml.r5.12xlarge",
    "vcpuNum": 48
   },
   {
    "_defaultOrder": 45,
    "_isFastLaunch": false,
    "category": "Memory Optimized",
    "gpuNum": 0,
    "hideHardwareSpecs": false,
    "memoryGiB": 512,
    "name": "ml.r5.16xlarge",
    "vcpuNum": 64
   },
   {
    "_defaultOrder": 46,
    "_isFastLaunch": false,
    "category": "Memory Optimized",
    "gpuNum": 0,
    "hideHardwareSpecs": false,
    "memoryGiB": 768,
    "name": "ml.r5.24xlarge",
    "vcpuNum": 96
   },
   {
    "_defaultOrder": 47,
    "_isFastLaunch": false,
    "category": "Accelerated computing",
    "gpuNum": 1,
    "hideHardwareSpecs": false,
    "memoryGiB": 16,
    "name": "ml.g5.xlarge",
    "vcpuNum": 4
   },
   {
    "_defaultOrder": 48,
    "_isFastLaunch": false,
    "category": "Accelerated computing",
    "gpuNum": 1,
    "hideHardwareSpecs": false,
    "memoryGiB": 32,
    "name": "ml.g5.2xlarge",
    "vcpuNum": 8
   },
   {
    "_defaultOrder": 49,
    "_isFastLaunch": false,
    "category": "Accelerated computing",
    "gpuNum": 1,
    "hideHardwareSpecs": false,
    "memoryGiB": 64,
    "name": "ml.g5.4xlarge",
    "vcpuNum": 16
   },
   {
    "_defaultOrder": 50,
    "_isFastLaunch": false,
    "category": "Accelerated computing",
    "gpuNum": 1,
    "hideHardwareSpecs": false,
    "memoryGiB": 128,
    "name": "ml.g5.8xlarge",
    "vcpuNum": 32
   },
   {
    "_defaultOrder": 51,
    "_isFastLaunch": false,
    "category": "Accelerated computing",
    "gpuNum": 1,
    "hideHardwareSpecs": false,
    "memoryGiB": 256,
    "name": "ml.g5.16xlarge",
    "vcpuNum": 64
   },
   {
    "_defaultOrder": 52,
    "_isFastLaunch": false,
    "category": "Accelerated computing",
    "gpuNum": 4,
    "hideHardwareSpecs": false,
    "memoryGiB": 192,
    "name": "ml.g5.12xlarge",
    "vcpuNum": 48
   },
   {
    "_defaultOrder": 53,
    "_isFastLaunch": false,
    "category": "Accelerated computing",
    "gpuNum": 4,
    "hideHardwareSpecs": false,
    "memoryGiB": 384,
    "name": "ml.g5.24xlarge",
    "vcpuNum": 96
   },
   {
    "_defaultOrder": 54,
    "_isFastLaunch": false,
    "category": "Accelerated computing",
    "gpuNum": 8,
    "hideHardwareSpecs": false,
    "memoryGiB": 768,
    "name": "ml.g5.48xlarge",
    "vcpuNum": 192
   },
   {
    "_defaultOrder": 55,
    "_isFastLaunch": false,
    "category": "Accelerated computing",
    "gpuNum": 8,
    "hideHardwareSpecs": false,
    "memoryGiB": 1152,
    "name": "ml.p4d.24xlarge",
    "vcpuNum": 96
   },
   {
    "_defaultOrder": 56,
    "_isFastLaunch": false,
    "category": "Accelerated computing",
    "gpuNum": 8,
    "hideHardwareSpecs": false,
    "memoryGiB": 1152,
    "name": "ml.p4de.24xlarge",
    "vcpuNum": 96
   }
  ],
  "instance_type": "ml.t3.medium",
  "kernelspec": {
   "display_name": "Python 3 (ipykernel)",
   "language": "python",
   "name": "python3"
  },
  "language_info": {
   "codemirror_mode": {
    "name": "ipython",
    "version": 3
   },
   "file_extension": ".py",
   "mimetype": "text/x-python",
   "name": "python",
   "nbconvert_exporter": "python",
   "pygments_lexer": "ipython3",
   "version": "3.10.13"
  }
 },
 "nbformat": 4,
 "nbformat_minor": 4
}
